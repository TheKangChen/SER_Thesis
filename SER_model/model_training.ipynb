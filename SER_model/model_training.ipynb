{
 "cells": [
  {
   "cell_type": "code",
   "execution_count": 28,
   "metadata": {},
   "outputs": [
    {
     "name": "stdout",
     "output_type": "stream",
     "text": [
      "• Using TensorFlow Version:  2.8.0\n"
     ]
    }
   ],
   "source": [
    "import numpy as np\n",
    "import pandas as pd\n",
    "import tensorflow as tf\n",
    "from tensorflow import keras\n",
    "from tensorflow.keras.metrics import MeanSquaredError\n",
    "from tensorflow_addons.metrics.r_square import RSquare\n",
    "import matplotlib.pyplot as plt\n",
    "\n",
    "print('\\u2022 Using TensorFlow Version: ', tf.__version__)"
   ]
  },
  {
   "cell_type": "code",
   "execution_count": 2,
   "metadata": {},
   "outputs": [],
   "source": [
    "# Folders & Paths\n",
    "audio_path = './audio/'\n",
    "\n",
    "features_path = './features/Normalized_Features.csv'\n",
    "\n",
    "truth_path = './truth/ratings/'\n",
    "aro_truth_path = truth_path + 'Arousal.csv'\n",
    "val_truth_path = truth_path + 'Valence.csv'"
   ]
  },
  {
   "cell_type": "markdown",
   "metadata": {},
   "source": [
    "# Read Feature set data & ground truth for Arousal & Valence"
   ]
  },
  {
   "cell_type": "code",
   "execution_count": 3,
   "metadata": {},
   "outputs": [],
   "source": [
    "features_norm = pd.read_csv(features_path)\n",
    "aro_truth = pd.read_csv(aro_truth_path, header=None)\n",
    "val_truth = pd.read_csv(val_truth_path, header=None)"
   ]
  },
  {
   "cell_type": "code",
   "execution_count": 4,
   "metadata": {},
   "outputs": [
    {
     "data": {
      "text/plain": [
       "0       0.523495\n",
       "1       0.211871\n",
       "2       0.589448\n",
       "3       0.396538\n",
       "4       0.764221\n",
       "          ...   \n",
       "1208    0.902721\n",
       "1209    0.655400\n",
       "1210    0.968673\n",
       "1211    0.812036\n",
       "1212    0.927453\n",
       "Name: 1, Length: 1213, dtype: float32"
      ]
     },
     "execution_count": 4,
     "metadata": {},
     "output_type": "execute_result"
    }
   ],
   "source": [
    "# Convert to float32 datatype (Meyda js outputs float32 data)\n",
    "aro_y = aro_truth[1].astype(np.float32)\n",
    "aro_y"
   ]
  },
  {
   "cell_type": "code",
   "execution_count": 5,
   "metadata": {},
   "outputs": [
    {
     "data": {
      "text/plain": [
       "0      -0.767519\n",
       "1      -0.577906\n",
       "2      -0.752679\n",
       "3       0.526793\n",
       "4      -0.190437\n",
       "          ...   \n",
       "1208   -0.952185\n",
       "1209   -0.742786\n",
       "1210   -0.965375\n",
       "1211    0.022259\n",
       "1212   -0.592745\n",
       "Name: 1, Length: 1213, dtype: float32"
      ]
     },
     "execution_count": 5,
     "metadata": {},
     "output_type": "execute_result"
    }
   ],
   "source": [
    "# Convert to float32 datatype (Meyda js outputs float32 data)\n",
    "val_y = val_truth[1].astype(np.float32)\n",
    "val_y"
   ]
  },
  {
   "cell_type": "code",
   "execution_count": 6,
   "metadata": {},
   "outputs": [
    {
     "name": "stdout",
     "output_type": "stream",
     "text": [
      "Number of files: 1213\n"
     ]
    }
   ],
   "source": [
    "files_list = features_norm['fileName'].tolist()\n",
    "print(f'Number of files: {len(files_list)}')"
   ]
  },
  {
   "cell_type": "markdown",
   "metadata": {},
   "source": [
    "# Reduce features to support features available in Meyda js\n",
    "meyda_available_features = ['rms','zcr','spectralRolloff','spectralCentroid','spectralSpread','spectralSkewness','spectralKurtosis','spectralFlatness','mfcc','chroma','loudness','energy','perceptualSharpness','spectralSlope']"
   ]
  },
  {
   "cell_type": "code",
   "execution_count": 7,
   "metadata": {},
   "outputs": [
    {
     "name": "stdout",
     "output_type": "stream",
     "text": [
      "Number of features: 14\n"
     ]
    }
   ],
   "source": [
    "# Meyda extractable features\n",
    "features = ['rms','zerocross','rolloff','centroid','spread','skewness','kurtosis','flatness','mfcc','chromagram','loudness','energy','perceptual_sharp','spectral_slope']\n",
    "# meyda_available_features = ['rms','zcr','spectralRolloff','spectralCentroid','spectralSpread','spectralSkewness','spectralKurtosis','spectralFlatness','mfcc','chroma','loudness','energy','perceptualSharpness','spectralSlope']\n",
    "\n",
    "print(f'Number of features: {len(features)}')"
   ]
  },
  {
   "cell_type": "code",
   "execution_count": 8,
   "metadata": {},
   "outputs": [
    {
     "name": "stdout",
     "output_type": "stream",
     "text": [
      "74\n"
     ]
    },
    {
     "data": {
      "text/plain": [
       "['rms_mean',\n",
       " 'rms_std',\n",
       " 'zerocross_mean',\n",
       " 'zerocross_std',\n",
       " 'rolloff_mean',\n",
       " 'rolloff_std',\n",
       " 'centroid_mean',\n",
       " 'centroid_std',\n",
       " 'spread_mean',\n",
       " 'spread_std',\n",
       " 'skewness_mean',\n",
       " 'skewness_std',\n",
       " 'kurtosis_mean',\n",
       " 'kurtosis_std',\n",
       " 'flatness_mean',\n",
       " 'flatness_std',\n",
       " 'mfcc_mean_1',\n",
       " 'mfcc_mean_2',\n",
       " 'mfcc_mean_3',\n",
       " 'mfcc_mean_4',\n",
       " 'mfcc_mean_5',\n",
       " 'mfcc_mean_6',\n",
       " 'mfcc_mean_7',\n",
       " 'mfcc_mean_8',\n",
       " 'mfcc_mean_9',\n",
       " 'mfcc_mean_10',\n",
       " 'mfcc_mean_11',\n",
       " 'mfcc_mean_12',\n",
       " 'mfcc_mean_13',\n",
       " 'mfcc_std_1',\n",
       " 'mfcc_std_2',\n",
       " 'mfcc_std_3',\n",
       " 'mfcc_std_4',\n",
       " 'mfcc_std_5',\n",
       " 'mfcc_std_6',\n",
       " 'mfcc_std_7',\n",
       " 'mfcc_std_8',\n",
       " 'mfcc_std_9',\n",
       " 'mfcc_std_10',\n",
       " 'mfcc_std_11',\n",
       " 'mfcc_std_12',\n",
       " 'mfcc_std_13',\n",
       " 'chromagram_mean_1',\n",
       " 'chromagram_mean_2',\n",
       " 'chromagram_mean_3',\n",
       " 'chromagram_mean_4',\n",
       " 'chromagram_mean_5',\n",
       " 'chromagram_mean_6',\n",
       " 'chromagram_mean_7',\n",
       " 'chromagram_mean_8',\n",
       " 'chromagram_mean_9',\n",
       " 'chromagram_mean_10',\n",
       " 'chromagram_mean_11',\n",
       " 'chromagram_mean_12',\n",
       " 'chromagram_std_1',\n",
       " 'chromagram_std_2',\n",
       " 'chromagram_std_3',\n",
       " 'chromagram_std_4',\n",
       " 'chromagram_std_5',\n",
       " 'chromagram_std_6',\n",
       " 'chromagram_std_7',\n",
       " 'chromagram_std_8',\n",
       " 'chromagram_std_9',\n",
       " 'chromagram_std_10',\n",
       " 'chromagram_std_11',\n",
       " 'chromagram_std_12',\n",
       " 'loudness_mean',\n",
       " 'loudness_std',\n",
       " 'energy_mean',\n",
       " 'energy_std',\n",
       " 'perceptual_sharp_mean',\n",
       " 'perceptual_sharp_std',\n",
       " 'spectral_slope_mean',\n",
       " 'spectral_slope_std']"
      ]
     },
     "execution_count": 8,
     "metadata": {},
     "output_type": "execute_result"
    }
   ],
   "source": [
    "# Create list of usable features\n",
    "mean_str = 'mean'\n",
    "std_str = 'std'\n",
    "num_mfcc = 13\n",
    "num_chroma = 12\n",
    "\n",
    "chroma_list = []\n",
    "mfcc_list = []\n",
    "features_list = [None] * len(features) * 2\n",
    "\n",
    "mfcc_idx = features.index('mfcc') * 2\n",
    "chroma_idx = features.index('chromagram') * 2\n",
    "\n",
    "\n",
    "for i in range(num_chroma):\n",
    "    chroma_str = f'chromagram_{mean_str}_{str(i+1)}'\n",
    "    chroma_list.append(chroma_str)\n",
    "\n",
    "for i in range(num_chroma):\n",
    "    chroma_str = f'chromagram_{std_str}_{str(i+1)}'\n",
    "    chroma_list.append(chroma_str)\n",
    "\n",
    "\n",
    "for i in range(num_mfcc):\n",
    "    mfcc_str = f'mfcc_{mean_str}_{str(i+1)}'\n",
    "    mfcc_list.append(mfcc_str)\n",
    "\n",
    "for i in range(num_mfcc):\n",
    "    mfcc_str = f'mfcc_{std_str}_{str(i+1)}'\n",
    "    mfcc_list.append(mfcc_str)\n",
    "\n",
    "mean_list = [f'{feature}_{mean_str}' for feature in features]\n",
    "std_list = [f'{feature}_{std_str}' for feature in features]\n",
    "\n",
    "features_list[::2] = mean_list\n",
    "features_list[1::2] = std_list\n",
    "\n",
    "features_list.pop(chroma_idx + 1)\n",
    "features_list.pop(chroma_idx)\n",
    "features_list[chroma_idx:chroma_idx] = chroma_list\n",
    "features_list.pop(mfcc_idx + 1)\n",
    "features_list.pop(mfcc_idx)\n",
    "features_list[mfcc_idx:mfcc_idx] = mfcc_list\n",
    "\n",
    "print(len(features_list))\n",
    "features_list"
   ]
  },
  {
   "cell_type": "code",
   "execution_count": 9,
   "metadata": {},
   "outputs": [
    {
     "name": "stdout",
     "output_type": "stream",
     "text": [
      "rms_mean                 float32\n",
      "rms_std                  float32\n",
      "zerocross_mean           float32\n",
      "zerocross_std            float32\n",
      "rolloff_mean             float32\n",
      "                          ...   \n",
      "energy_std               float32\n",
      "perceptual_sharp_mean    float32\n",
      "perceptual_sharp_std     float32\n",
      "spectral_slope_mean      float32\n",
      "spectral_slope_std       float32\n",
      "Length: 74, dtype: object\n"
     ]
    }
   ],
   "source": [
    "# filter data to accomodate available features\n",
    "f_features_norm = features_norm.filter(features_list).astype(np.float32)\n",
    "print(f_features_norm.dtypes)"
   ]
  },
  {
   "cell_type": "markdown",
   "metadata": {},
   "source": [
    "# Train Deployment Model"
   ]
  },
  {
   "cell_type": "markdown",
   "metadata": {},
   "source": [
    "### Train Arousal Neural Net"
   ]
  },
  {
   "cell_type": "code",
   "execution_count": 10,
   "metadata": {},
   "outputs": [],
   "source": [
    "# Arousal Neural Net\n",
    "\n",
    "aro_model = keras.Sequential([\n",
    "    keras.layers.Dense(50, activation='relu', input_shape=(74,)),\n",
    "    keras.layers.Dropout(0.2),\n",
    "    keras.layers.Dense(20, activation='relu'),\n",
    "    keras.layers.Dropout(0.2),\n",
    "    keras.layers.Dense(1, activation='linear')\n",
    "])\n",
    "\n",
    "aro_model.compile(\n",
    "    optimizer=keras.optimizers.RMSprop(),\n",
    "    loss=keras.losses.MeanSquaredError(),\n",
    "    metrics=[\n",
    "        MeanSquaredError(),\n",
    "        RSquare(y_shape=(1,))\n",
    "    ]\n",
    ")"
   ]
  },
  {
   "cell_type": "code",
   "execution_count": 39,
   "metadata": {},
   "outputs": [
    {
     "name": "stdout",
     "output_type": "stream",
     "text": [
      "Model: \"sequential\"\n",
      "_________________________________________________________________\n",
      " Layer (type)                Output Shape              Param #   \n",
      "=================================================================\n",
      " dense (Dense)               (None, 50)                3750      \n",
      "                                                                 \n",
      " dropout (Dropout)           (None, 50)                0         \n",
      "                                                                 \n",
      " dense_1 (Dense)             (None, 20)                1020      \n",
      "                                                                 \n",
      " dropout_1 (Dropout)         (None, 20)                0         \n",
      "                                                                 \n",
      " dense_2 (Dense)             (None, 1)                 21        \n",
      "                                                                 \n",
      "=================================================================\n",
      "Total params: 4,791\n",
      "Trainable params: 4,791\n",
      "Non-trainable params: 0\n",
      "_________________________________________________________________\n"
     ]
    }
   ],
   "source": [
    "aro_model.summary()"
   ]
  },
  {
   "cell_type": "code",
   "execution_count": 11,
   "metadata": {},
   "outputs": [
    {
     "name": "stdout",
     "output_type": "stream",
     "text": [
      "Epoch 1/100\n",
      "38/38 [==============================] - 1s 1ms/step - loss: 0.3034 - mean_squared_error: 0.3034 - r_square: 0.0893\n",
      "Epoch 2/100\n",
      "38/38 [==============================] - 0s 1ms/step - loss: 0.2079 - mean_squared_error: 0.2079 - r_square: 0.3760\n",
      "Epoch 3/100\n",
      "38/38 [==============================] - 0s 1ms/step - loss: 0.1638 - mean_squared_error: 0.1638 - r_square: 0.5085\n",
      "Epoch 4/100\n",
      "38/38 [==============================] - 0s 1ms/step - loss: 0.1314 - mean_squared_error: 0.1314 - r_square: 0.6056\n",
      "Epoch 5/100\n",
      "38/38 [==============================] - 0s 1ms/step - loss: 0.1184 - mean_squared_error: 0.1184 - r_square: 0.6447\n",
      "Epoch 6/100\n",
      "38/38 [==============================] - 0s 1ms/step - loss: 0.1084 - mean_squared_error: 0.1084 - r_square: 0.6746\n",
      "Epoch 7/100\n",
      "38/38 [==============================] - 0s 1ms/step - loss: 0.1004 - mean_squared_error: 0.1004 - r_square: 0.6988\n",
      "Epoch 8/100\n",
      "38/38 [==============================] - 0s 1ms/step - loss: 0.0915 - mean_squared_error: 0.0915 - r_square: 0.7253\n",
      "Epoch 9/100\n",
      "38/38 [==============================] - 0s 1ms/step - loss: 0.0909 - mean_squared_error: 0.0909 - r_square: 0.7271\n",
      "Epoch 10/100\n",
      "38/38 [==============================] - 0s 1ms/step - loss: 0.0843 - mean_squared_error: 0.0843 - r_square: 0.7470\n",
      "Epoch 11/100\n",
      "38/38 [==============================] - 0s 1ms/step - loss: 0.0808 - mean_squared_error: 0.0808 - r_square: 0.7574\n",
      "Epoch 12/100\n",
      "38/38 [==============================] - 0s 1ms/step - loss: 0.0815 - mean_squared_error: 0.0815 - r_square: 0.7555\n",
      "Epoch 13/100\n",
      "38/38 [==============================] - 0s 1ms/step - loss: 0.0800 - mean_squared_error: 0.0800 - r_square: 0.7598\n",
      "Epoch 14/100\n",
      "38/38 [==============================] - 0s 1ms/step - loss: 0.0754 - mean_squared_error: 0.0754 - r_square: 0.7736\n",
      "Epoch 15/100\n",
      "38/38 [==============================] - 0s 1ms/step - loss: 0.0773 - mean_squared_error: 0.0773 - r_square: 0.7679\n",
      "Epoch 16/100\n",
      "38/38 [==============================] - 0s 1ms/step - loss: 0.0748 - mean_squared_error: 0.0748 - r_square: 0.7755\n",
      "Epoch 17/100\n",
      "38/38 [==============================] - 0s 1ms/step - loss: 0.0662 - mean_squared_error: 0.0662 - r_square: 0.8013\n",
      "Epoch 18/100\n",
      "38/38 [==============================] - 0s 960us/step - loss: 0.0690 - mean_squared_error: 0.0690 - r_square: 0.7930\n",
      "Epoch 19/100\n",
      "38/38 [==============================] - 0s 1ms/step - loss: 0.0643 - mean_squared_error: 0.0643 - r_square: 0.8070\n",
      "Epoch 20/100\n",
      "38/38 [==============================] - 0s 998us/step - loss: 0.0680 - mean_squared_error: 0.0680 - r_square: 0.7959\n",
      "Epoch 21/100\n",
      "38/38 [==============================] - 0s 1ms/step - loss: 0.0649 - mean_squared_error: 0.0649 - r_square: 0.8052\n",
      "Epoch 22/100\n",
      "38/38 [==============================] - 0s 1ms/step - loss: 0.0647 - mean_squared_error: 0.0647 - r_square: 0.8058\n",
      "Epoch 23/100\n",
      "38/38 [==============================] - 0s 1ms/step - loss: 0.0615 - mean_squared_error: 0.0615 - r_square: 0.8156\n",
      "Epoch 24/100\n",
      "38/38 [==============================] - 0s 1ms/step - loss: 0.0623 - mean_squared_error: 0.0623 - r_square: 0.8131\n",
      "Epoch 25/100\n",
      "38/38 [==============================] - 0s 1ms/step - loss: 0.0633 - mean_squared_error: 0.0633 - r_square: 0.8101\n",
      "Epoch 26/100\n",
      "38/38 [==============================] - 0s 1ms/step - loss: 0.0602 - mean_squared_error: 0.0602 - r_square: 0.8194\n",
      "Epoch 27/100\n",
      "38/38 [==============================] - 0s 1ms/step - loss: 0.0601 - mean_squared_error: 0.0601 - r_square: 0.8196\n",
      "Epoch 28/100\n",
      "38/38 [==============================] - 0s 1ms/step - loss: 0.0605 - mean_squared_error: 0.0605 - r_square: 0.8184\n",
      "Epoch 29/100\n",
      "38/38 [==============================] - 0s 1ms/step - loss: 0.0562 - mean_squared_error: 0.0562 - r_square: 0.8312\n",
      "Epoch 30/100\n",
      "38/38 [==============================] - 0s 957us/step - loss: 0.0608 - mean_squared_error: 0.0608 - r_square: 0.8176\n",
      "Epoch 31/100\n",
      "38/38 [==============================] - 0s 1ms/step - loss: 0.0604 - mean_squared_error: 0.0604 - r_square: 0.8187\n",
      "Epoch 32/100\n",
      "38/38 [==============================] - 0s 1ms/step - loss: 0.0536 - mean_squared_error: 0.0536 - r_square: 0.8390\n",
      "Epoch 33/100\n",
      "38/38 [==============================] - 0s 994us/step - loss: 0.0577 - mean_squared_error: 0.0577 - r_square: 0.8267\n",
      "Epoch 34/100\n",
      "38/38 [==============================] - 0s 1ms/step - loss: 0.0575 - mean_squared_error: 0.0575 - r_square: 0.8276\n",
      "Epoch 35/100\n",
      "38/38 [==============================] - 0s 1ms/step - loss: 0.0563 - mean_squared_error: 0.0563 - r_square: 0.8310\n",
      "Epoch 36/100\n",
      "38/38 [==============================] - 0s 1ms/step - loss: 0.0559 - mean_squared_error: 0.0559 - r_square: 0.8321\n",
      "Epoch 37/100\n",
      "38/38 [==============================] - 0s 1ms/step - loss: 0.0554 - mean_squared_error: 0.0554 - r_square: 0.8339\n",
      "Epoch 38/100\n",
      "38/38 [==============================] - 0s 1ms/step - loss: 0.0587 - mean_squared_error: 0.0587 - r_square: 0.8238\n",
      "Epoch 39/100\n",
      "38/38 [==============================] - 0s 1ms/step - loss: 0.0549 - mean_squared_error: 0.0549 - r_square: 0.8353\n",
      "Epoch 40/100\n",
      "38/38 [==============================] - 0s 1ms/step - loss: 0.0550 - mean_squared_error: 0.0550 - r_square: 0.8351\n",
      "Epoch 41/100\n",
      "38/38 [==============================] - 0s 1ms/step - loss: 0.0527 - mean_squared_error: 0.0527 - r_square: 0.8417\n",
      "Epoch 42/100\n",
      "38/38 [==============================] - 0s 1ms/step - loss: 0.0491 - mean_squared_error: 0.0491 - r_square: 0.8526\n",
      "Epoch 43/100\n",
      "38/38 [==============================] - 0s 1ms/step - loss: 0.0518 - mean_squared_error: 0.0518 - r_square: 0.8446\n",
      "Epoch 44/100\n",
      "38/38 [==============================] - 0s 1ms/step - loss: 0.0540 - mean_squared_error: 0.0540 - r_square: 0.8379\n",
      "Epoch 45/100\n",
      "38/38 [==============================] - 0s 1ms/step - loss: 0.0520 - mean_squared_error: 0.0520 - r_square: 0.8439\n",
      "Epoch 46/100\n",
      "38/38 [==============================] - 0s 952us/step - loss: 0.0537 - mean_squared_error: 0.0537 - r_square: 0.8389\n",
      "Epoch 47/100\n",
      "38/38 [==============================] - 0s 1ms/step - loss: 0.0500 - mean_squared_error: 0.0500 - r_square: 0.8499\n",
      "Epoch 48/100\n",
      "38/38 [==============================] - 0s 1ms/step - loss: 0.0485 - mean_squared_error: 0.0485 - r_square: 0.8544\n",
      "Epoch 49/100\n",
      "38/38 [==============================] - 0s 1ms/step - loss: 0.0513 - mean_squared_error: 0.0513 - r_square: 0.8462\n",
      "Epoch 50/100\n",
      "38/38 [==============================] - 0s 979us/step - loss: 0.0502 - mean_squared_error: 0.0502 - r_square: 0.8493\n",
      "Epoch 51/100\n",
      "38/38 [==============================] - 0s 1ms/step - loss: 0.0542 - mean_squared_error: 0.0542 - r_square: 0.8373\n",
      "Epoch 52/100\n",
      "38/38 [==============================] - 0s 985us/step - loss: 0.0506 - mean_squared_error: 0.0506 - r_square: 0.8481\n",
      "Epoch 53/100\n",
      "38/38 [==============================] - 0s 1ms/step - loss: 0.0513 - mean_squared_error: 0.0513 - r_square: 0.8461\n",
      "Epoch 54/100\n",
      "38/38 [==============================] - 0s 1ms/step - loss: 0.0519 - mean_squared_error: 0.0519 - r_square: 0.8442\n",
      "Epoch 55/100\n",
      "38/38 [==============================] - 0s 1ms/step - loss: 0.0480 - mean_squared_error: 0.0480 - r_square: 0.8561\n",
      "Epoch 56/100\n",
      "38/38 [==============================] - 0s 1ms/step - loss: 0.0529 - mean_squared_error: 0.0529 - r_square: 0.8412\n",
      "Epoch 57/100\n",
      "38/38 [==============================] - 0s 1ms/step - loss: 0.0479 - mean_squared_error: 0.0479 - r_square: 0.8563\n",
      "Epoch 58/100\n",
      "38/38 [==============================] - 0s 1ms/step - loss: 0.0467 - mean_squared_error: 0.0467 - r_square: 0.8598\n",
      "Epoch 59/100\n",
      "38/38 [==============================] - 0s 1ms/step - loss: 0.0495 - mean_squared_error: 0.0495 - r_square: 0.8514\n",
      "Epoch 60/100\n",
      "38/38 [==============================] - 0s 1ms/step - loss: 0.0475 - mean_squared_error: 0.0475 - r_square: 0.8574\n",
      "Epoch 61/100\n",
      "38/38 [==============================] - 0s 1ms/step - loss: 0.0468 - mean_squared_error: 0.0468 - r_square: 0.8596\n",
      "Epoch 62/100\n",
      "38/38 [==============================] - 0s 1ms/step - loss: 0.0491 - mean_squared_error: 0.0491 - r_square: 0.8526\n",
      "Epoch 63/100\n",
      "38/38 [==============================] - 0s 1ms/step - loss: 0.0463 - mean_squared_error: 0.0463 - r_square: 0.8609\n",
      "Epoch 64/100\n",
      "38/38 [==============================] - 0s 1ms/step - loss: 0.0459 - mean_squared_error: 0.0459 - r_square: 0.8624\n",
      "Epoch 65/100\n",
      "38/38 [==============================] - 0s 1ms/step - loss: 0.0452 - mean_squared_error: 0.0452 - r_square: 0.8644\n",
      "Epoch 66/100\n",
      "38/38 [==============================] - 0s 942us/step - loss: 0.0463 - mean_squared_error: 0.0463 - r_square: 0.8610\n",
      "Epoch 67/100\n",
      "38/38 [==============================] - 0s 1ms/step - loss: 0.0473 - mean_squared_error: 0.0473 - r_square: 0.8581\n",
      "Epoch 68/100\n",
      "38/38 [==============================] - 0s 1ms/step - loss: 0.0502 - mean_squared_error: 0.0502 - r_square: 0.8493\n",
      "Epoch 69/100\n",
      "38/38 [==============================] - 0s 1ms/step - loss: 0.0442 - mean_squared_error: 0.0442 - r_square: 0.8672\n",
      "Epoch 70/100\n",
      "38/38 [==============================] - 0s 1ms/step - loss: 0.0428 - mean_squared_error: 0.0428 - r_square: 0.8717\n",
      "Epoch 71/100\n",
      "38/38 [==============================] - 0s 981us/step - loss: 0.0489 - mean_squared_error: 0.0489 - r_square: 0.8531\n",
      "Epoch 72/100\n",
      "38/38 [==============================] - 0s 1ms/step - loss: 0.0464 - mean_squared_error: 0.0464 - r_square: 0.8606\n",
      "Epoch 73/100\n",
      "38/38 [==============================] - 0s 1ms/step - loss: 0.0496 - mean_squared_error: 0.0496 - r_square: 0.8513\n",
      "Epoch 74/100\n",
      "38/38 [==============================] - 0s 1ms/step - loss: 0.0458 - mean_squared_error: 0.0458 - r_square: 0.8627\n",
      "Epoch 75/100\n",
      "38/38 [==============================] - 0s 1ms/step - loss: 0.0451 - mean_squared_error: 0.0451 - r_square: 0.8646\n",
      "Epoch 76/100\n",
      "38/38 [==============================] - 0s 949us/step - loss: 0.0467 - mean_squared_error: 0.0467 - r_square: 0.8598\n",
      "Epoch 77/100\n",
      "38/38 [==============================] - 0s 1ms/step - loss: 0.0471 - mean_squared_error: 0.0471 - r_square: 0.8586\n",
      "Epoch 78/100\n",
      "38/38 [==============================] - 0s 1ms/step - loss: 0.0460 - mean_squared_error: 0.0460 - r_square: 0.8620\n",
      "Epoch 79/100\n",
      "38/38 [==============================] - 0s 1ms/step - loss: 0.0449 - mean_squared_error: 0.0449 - r_square: 0.8651\n",
      "Epoch 80/100\n",
      "38/38 [==============================] - 0s 1ms/step - loss: 0.0470 - mean_squared_error: 0.0470 - r_square: 0.8590\n",
      "Epoch 81/100\n",
      "38/38 [==============================] - 0s 1ms/step - loss: 0.0451 - mean_squared_error: 0.0451 - r_square: 0.8647\n",
      "Epoch 82/100\n",
      "38/38 [==============================] - 0s 1ms/step - loss: 0.0457 - mean_squared_error: 0.0457 - r_square: 0.8629\n",
      "Epoch 83/100\n",
      "38/38 [==============================] - 0s 1ms/step - loss: 0.0436 - mean_squared_error: 0.0436 - r_square: 0.8690\n",
      "Epoch 84/100\n",
      "38/38 [==============================] - 0s 1ms/step - loss: 0.0450 - mean_squared_error: 0.0450 - r_square: 0.8649\n",
      "Epoch 85/100\n",
      "38/38 [==============================] - 0s 1ms/step - loss: 0.0431 - mean_squared_error: 0.0431 - r_square: 0.8707\n",
      "Epoch 86/100\n",
      "38/38 [==============================] - 0s 1ms/step - loss: 0.0456 - mean_squared_error: 0.0456 - r_square: 0.8630\n",
      "Epoch 87/100\n",
      "38/38 [==============================] - 0s 1ms/step - loss: 0.0430 - mean_squared_error: 0.0430 - r_square: 0.8710\n",
      "Epoch 88/100\n",
      "38/38 [==============================] - 0s 1ms/step - loss: 0.0416 - mean_squared_error: 0.0416 - r_square: 0.8750\n",
      "Epoch 89/100\n",
      "38/38 [==============================] - 0s 1ms/step - loss: 0.0446 - mean_squared_error: 0.0446 - r_square: 0.8662\n",
      "Epoch 90/100\n",
      "38/38 [==============================] - 0s 1ms/step - loss: 0.0454 - mean_squared_error: 0.0454 - r_square: 0.8638\n",
      "Epoch 91/100\n",
      "38/38 [==============================] - 0s 1ms/step - loss: 0.0447 - mean_squared_error: 0.0447 - r_square: 0.8660\n",
      "Epoch 92/100\n",
      "38/38 [==============================] - 0s 1ms/step - loss: 0.0423 - mean_squared_error: 0.0423 - r_square: 0.8731\n",
      "Epoch 93/100\n",
      "38/38 [==============================] - 0s 1ms/step - loss: 0.0445 - mean_squared_error: 0.0445 - r_square: 0.8665\n",
      "Epoch 94/100\n",
      "38/38 [==============================] - 0s 999us/step - loss: 0.0422 - mean_squared_error: 0.0422 - r_square: 0.8734\n",
      "Epoch 95/100\n",
      "38/38 [==============================] - 0s 1ms/step - loss: 0.0445 - mean_squared_error: 0.0445 - r_square: 0.8665\n",
      "Epoch 96/100\n",
      "38/38 [==============================] - 0s 1ms/step - loss: 0.0417 - mean_squared_error: 0.0417 - r_square: 0.8750\n",
      "Epoch 97/100\n",
      "38/38 [==============================] - 0s 1ms/step - loss: 0.0400 - mean_squared_error: 0.0400 - r_square: 0.8800\n",
      "Epoch 98/100\n",
      "38/38 [==============================] - 0s 1ms/step - loss: 0.0443 - mean_squared_error: 0.0443 - r_square: 0.8670\n",
      "Epoch 99/100\n",
      "38/38 [==============================] - 0s 1ms/step - loss: 0.0419 - mean_squared_error: 0.0419 - r_square: 0.8742\n",
      "Epoch 100/100\n",
      "38/38 [==============================] - 0s 1ms/step - loss: 0.0438 - mean_squared_error: 0.0438 - r_square: 0.8684\n"
     ]
    }
   ],
   "source": [
    "aro_history = aro_model.fit(f_features_norm, aro_y, epochs=100)"
   ]
  },
  {
   "cell_type": "code",
   "execution_count": 12,
   "metadata": {},
   "outputs": [
    {
     "name": "stdout",
     "output_type": "stream",
     "text": [
      "Arousal Model Training History\n"
     ]
    },
    {
     "data": {
      "image/png": "[encoded data removed]",
      "text/plain": [
       "<Figure size 1440x720 with 1 Axes>"
      ]
     },
     "metadata": {
      "needs_background": "light"
     },
     "output_type": "display_data"
    }
   ],
   "source": [
    "mse = aro_history.history['mean_squared_error']\n",
    "r2 = aro_history.history['r_square']\n",
    "\n",
    "epochs = range(len(mse)) # Get number of epochs\n",
    "\n",
    "#------------------------------------------------\n",
    "# Plot training MSE per epoch\n",
    "#------------------------------------------------\n",
    "plt.figure(figsize=(20,10))\n",
    "plt.plot  (epochs, mse, label='MSE')\n",
    "\n",
    "#------------------------------------------------\n",
    "# Plot training r2 per epoch\n",
    "#------------------------------------------------\n",
    "plt.plot  (epochs, r2, label='r_squated')\n",
    "plt.xlabel('Epochs')\n",
    "plt.legend()\n",
    "plt.title ('Training History')\n",
    "\n",
    "print('Arousal Model Training History')"
   ]
  },
  {
   "cell_type": "markdown",
   "metadata": {},
   "source": [
    "### Train Valence Neural Net"
   ]
  },
  {
   "cell_type": "code",
   "execution_count": 19,
   "metadata": {},
   "outputs": [],
   "source": [
    "# Valence Neural Net\n",
    "\n",
    "val_model = keras.Sequential([\n",
    "    keras.layers.Dense(50, activation='relu', input_shape=(74,)),\n",
    "    keras.layers.Dropout(0.2),\n",
    "    keras.layers.Dense(20, activation='relu'),\n",
    "    keras.layers.Dropout(0.2),\n",
    "    keras.layers.Dense(1, activation='linear')\n",
    "])\n",
    "\n",
    "val_model.compile(\n",
    "    optimizer=keras.optimizers.RMSprop(),\n",
    "    loss=keras.losses.MeanSquaredError(),\n",
    "    metrics=[\n",
    "        MeanSquaredError(),\n",
    "        RSquare(y_shape=(1,))\n",
    "    ]\n",
    ")"
   ]
  },
  {
   "cell_type": "code",
   "execution_count": 40,
   "metadata": {},
   "outputs": [
    {
     "name": "stdout",
     "output_type": "stream",
     "text": [
      "Model: \"sequential_3\"\n",
      "_________________________________________________________________\n",
      " Layer (type)                Output Shape              Param #   \n",
      "=================================================================\n",
      " dense_9 (Dense)             (None, 50)                3750      \n",
      "                                                                 \n",
      " dropout_6 (Dropout)         (None, 50)                0         \n",
      "                                                                 \n",
      " dense_10 (Dense)            (None, 20)                1020      \n",
      "                                                                 \n",
      " dropout_7 (Dropout)         (None, 20)                0         \n",
      "                                                                 \n",
      " dense_11 (Dense)            (None, 1)                 21        \n",
      "                                                                 \n",
      "=================================================================\n",
      "Total params: 4,791\n",
      "Trainable params: 4,791\n",
      "Non-trainable params: 0\n",
      "_________________________________________________________________\n"
     ]
    }
   ],
   "source": [
    "val_model.summary()"
   ]
  },
  {
   "cell_type": "code",
   "execution_count": 20,
   "metadata": {},
   "outputs": [
    {
     "name": "stdout",
     "output_type": "stream",
     "text": [
      "Epoch 1/100\n",
      "38/38 [==============================] - 0s 1ms/step - loss: 0.3106 - mean_squared_error: 0.3106 - r_square: 0.0682\n",
      "Epoch 2/100\n",
      "38/38 [==============================] - 0s 1ms/step - loss: 0.2484 - mean_squared_error: 0.2484 - r_square: 0.2547\n",
      "Epoch 3/100\n",
      "38/38 [==============================] - 0s 2ms/step - loss: 0.2104 - mean_squared_error: 0.2104 - r_square: 0.3689\n",
      "Epoch 4/100\n",
      "38/38 [==============================] - 0s 1ms/step - loss: 0.1892 - mean_squared_error: 0.1892 - r_square: 0.4324\n",
      "Epoch 5/100\n",
      "38/38 [==============================] - 0s 1ms/step - loss: 0.1770 - mean_squared_error: 0.1770 - r_square: 0.4690\n",
      "Epoch 6/100\n",
      "38/38 [==============================] - 0s 1ms/step - loss: 0.1761 - mean_squared_error: 0.1761 - r_square: 0.4716\n",
      "Epoch 7/100\n",
      "38/38 [==============================] - 0s 1ms/step - loss: 0.1691 - mean_squared_error: 0.1691 - r_square: 0.4927\n",
      "Epoch 8/100\n",
      "38/38 [==============================] - 0s 1ms/step - loss: 0.1576 - mean_squared_error: 0.1576 - r_square: 0.5272\n",
      "Epoch 9/100\n",
      "38/38 [==============================] - 0s 1ms/step - loss: 0.1528 - mean_squared_error: 0.1528 - r_square: 0.5417\n",
      "Epoch 10/100\n",
      "38/38 [==============================] - 0s 1ms/step - loss: 0.1422 - mean_squared_error: 0.1422 - r_square: 0.5733\n",
      "Epoch 11/100\n",
      "38/38 [==============================] - 0s 1ms/step - loss: 0.1518 - mean_squared_error: 0.1518 - r_square: 0.5447\n",
      "Epoch 12/100\n",
      "38/38 [==============================] - 0s 1ms/step - loss: 0.1341 - mean_squared_error: 0.1341 - r_square: 0.5977\n",
      "Epoch 13/100\n",
      "38/38 [==============================] - 0s 1ms/step - loss: 0.1405 - mean_squared_error: 0.1405 - r_square: 0.5784\n",
      "Epoch 14/100\n",
      "38/38 [==============================] - 0s 999us/step - loss: 0.1330 - mean_squared_error: 0.1330 - r_square: 0.6010\n",
      "Epoch 15/100\n",
      "38/38 [==============================] - 0s 1ms/step - loss: 0.1407 - mean_squared_error: 0.1407 - r_square: 0.5780\n",
      "Epoch 16/100\n",
      "38/38 [==============================] - 0s 1ms/step - loss: 0.1332 - mean_squared_error: 0.1332 - r_square: 0.6003\n",
      "Epoch 17/100\n",
      "38/38 [==============================] - 0s 1ms/step - loss: 0.1247 - mean_squared_error: 0.1247 - r_square: 0.6260\n",
      "Epoch 18/100\n",
      "38/38 [==============================] - 0s 997us/step - loss: 0.1371 - mean_squared_error: 0.1371 - r_square: 0.5888\n",
      "Epoch 19/100\n",
      "38/38 [==============================] - 0s 1ms/step - loss: 0.1317 - mean_squared_error: 0.1317 - r_square: 0.6050\n",
      "Epoch 20/100\n",
      "38/38 [==============================] - 0s 997us/step - loss: 0.1210 - mean_squared_error: 0.1210 - r_square: 0.6369\n",
      "Epoch 21/100\n",
      "38/38 [==============================] - 0s 1ms/step - loss: 0.1283 - mean_squared_error: 0.1283 - r_square: 0.6152\n",
      "Epoch 22/100\n",
      "38/38 [==============================] - 0s 997us/step - loss: 0.1278 - mean_squared_error: 0.1278 - r_square: 0.6167\n",
      "Epoch 23/100\n",
      "38/38 [==============================] - 0s 2ms/step - loss: 0.1222 - mean_squared_error: 0.1222 - r_square: 0.6335\n",
      "Epoch 24/100\n",
      "38/38 [==============================] - 0s 2ms/step - loss: 0.1231 - mean_squared_error: 0.1231 - r_square: 0.6306\n",
      "Epoch 25/100\n",
      "38/38 [==============================] - 0s 1ms/step - loss: 0.1208 - mean_squared_error: 0.1208 - r_square: 0.6377\n",
      "Epoch 26/100\n",
      "38/38 [==============================] - 0s 1ms/step - loss: 0.1206 - mean_squared_error: 0.1206 - r_square: 0.6383\n",
      "Epoch 27/100\n",
      "38/38 [==============================] - 0s 1ms/step - loss: 0.1206 - mean_squared_error: 0.1206 - r_square: 0.6383\n",
      "Epoch 28/100\n",
      "38/38 [==============================] - 0s 1ms/step - loss: 0.1184 - mean_squared_error: 0.1184 - r_square: 0.6448\n",
      "Epoch 29/100\n",
      "38/38 [==============================] - 0s 1ms/step - loss: 0.1165 - mean_squared_error: 0.1165 - r_square: 0.6506\n",
      "Epoch 30/100\n",
      "38/38 [==============================] - 0s 1ms/step - loss: 0.1153 - mean_squared_error: 0.1153 - r_square: 0.6540\n",
      "Epoch 31/100\n",
      "38/38 [==============================] - 0s 1ms/step - loss: 0.1129 - mean_squared_error: 0.1129 - r_square: 0.6614\n",
      "Epoch 32/100\n",
      "38/38 [==============================] - 0s 1ms/step - loss: 0.1148 - mean_squared_error: 0.1148 - r_square: 0.6555\n",
      "Epoch 33/100\n",
      "38/38 [==============================] - 0s 1ms/step - loss: 0.1132 - mean_squared_error: 0.1132 - r_square: 0.6603\n",
      "Epoch 34/100\n",
      "38/38 [==============================] - 0s 1ms/step - loss: 0.1144 - mean_squared_error: 0.1144 - r_square: 0.6569\n",
      "Epoch 35/100\n",
      "38/38 [==============================] - 0s 1ms/step - loss: 0.1124 - mean_squared_error: 0.1124 - r_square: 0.6628\n",
      "Epoch 36/100\n",
      "38/38 [==============================] - 0s 1ms/step - loss: 0.1074 - mean_squared_error: 0.1074 - r_square: 0.6778\n",
      "Epoch 37/100\n",
      "38/38 [==============================] - 0s 1ms/step - loss: 0.1113 - mean_squared_error: 0.1113 - r_square: 0.6661\n",
      "Epoch 38/100\n",
      "38/38 [==============================] - 0s 1ms/step - loss: 0.1090 - mean_squared_error: 0.1090 - r_square: 0.6729\n",
      "Epoch 39/100\n",
      "38/38 [==============================] - 0s 1ms/step - loss: 0.1114 - mean_squared_error: 0.1114 - r_square: 0.6659\n",
      "Epoch 40/100\n",
      "38/38 [==============================] - 0s 983us/step - loss: 0.1098 - mean_squared_error: 0.1098 - r_square: 0.6705\n",
      "Epoch 41/100\n",
      "38/38 [==============================] - 0s 1ms/step - loss: 0.1109 - mean_squared_error: 0.1109 - r_square: 0.6674\n",
      "Epoch 42/100\n",
      "38/38 [==============================] - 0s 1ms/step - loss: 0.1071 - mean_squared_error: 0.1071 - r_square: 0.6786\n",
      "Epoch 43/100\n",
      "38/38 [==============================] - 0s 1ms/step - loss: 0.1073 - mean_squared_error: 0.1073 - r_square: 0.6780\n",
      "Epoch 44/100\n",
      "38/38 [==============================] - 0s 1ms/step - loss: 0.1036 - mean_squared_error: 0.1036 - r_square: 0.6892\n",
      "Epoch 45/100\n",
      "38/38 [==============================] - 0s 916us/step - loss: 0.1068 - mean_squared_error: 0.1068 - r_square: 0.6797\n",
      "Epoch 46/100\n",
      "38/38 [==============================] - 0s 1ms/step - loss: 0.1092 - mean_squared_error: 0.1092 - r_square: 0.6725\n",
      "Epoch 47/100\n",
      "38/38 [==============================] - 0s 997us/step - loss: 0.1084 - mean_squared_error: 0.1084 - r_square: 0.6749\n",
      "Epoch 48/100\n",
      "38/38 [==============================] - 0s 1ms/step - loss: 0.1056 - mean_squared_error: 0.1056 - r_square: 0.6832\n",
      "Epoch 49/100\n",
      "38/38 [==============================] - 0s 922us/step - loss: 0.1050 - mean_squared_error: 0.1050 - r_square: 0.6849\n",
      "Epoch 50/100\n",
      "38/38 [==============================] - 0s 1ms/step - loss: 0.1093 - mean_squared_error: 0.1093 - r_square: 0.6722\n",
      "Epoch 51/100\n",
      "38/38 [==============================] - 0s 942us/step - loss: 0.1052 - mean_squared_error: 0.1052 - r_square: 0.6845\n",
      "Epoch 52/100\n",
      "38/38 [==============================] - 0s 1ms/step - loss: 0.1063 - mean_squared_error: 0.1063 - r_square: 0.6811\n",
      "Epoch 53/100\n",
      "38/38 [==============================] - 0s 943us/step - loss: 0.1013 - mean_squared_error: 0.1013 - r_square: 0.6960\n",
      "Epoch 54/100\n",
      "38/38 [==============================] - 0s 1ms/step - loss: 0.0978 - mean_squared_error: 0.0978 - r_square: 0.7066\n",
      "Epoch 55/100\n",
      "38/38 [==============================] - 0s 1ms/step - loss: 0.1035 - mean_squared_error: 0.1035 - r_square: 0.6896\n",
      "Epoch 56/100\n",
      "38/38 [==============================] - 0s 1ms/step - loss: 0.1015 - mean_squared_error: 0.1015 - r_square: 0.6955\n",
      "Epoch 57/100\n",
      "38/38 [==============================] - 0s 1ms/step - loss: 0.1044 - mean_squared_error: 0.1044 - r_square: 0.6867\n",
      "Epoch 58/100\n",
      "38/38 [==============================] - 0s 1ms/step - loss: 0.1012 - mean_squared_error: 0.1012 - r_square: 0.6964\n",
      "Epoch 59/100\n",
      "38/38 [==============================] - 0s 1ms/step - loss: 0.1020 - mean_squared_error: 0.1020 - r_square: 0.6941\n",
      "Epoch 60/100\n",
      "38/38 [==============================] - 0s 1ms/step - loss: 0.1003 - mean_squared_error: 0.1003 - r_square: 0.6990\n",
      "Epoch 61/100\n",
      "38/38 [==============================] - 0s 1ms/step - loss: 0.1037 - mean_squared_error: 0.1037 - r_square: 0.6890\n",
      "Epoch 62/100\n",
      "38/38 [==============================] - 0s 1ms/step - loss: 0.1015 - mean_squared_error: 0.1015 - r_square: 0.6954\n",
      "Epoch 63/100\n",
      "38/38 [==============================] - 0s 970us/step - loss: 0.1014 - mean_squared_error: 0.1014 - r_square: 0.6957\n",
      "Epoch 64/100\n",
      "38/38 [==============================] - 0s 1ms/step - loss: 0.0983 - mean_squared_error: 0.0983 - r_square: 0.7050\n",
      "Epoch 65/100\n",
      "38/38 [==============================] - 0s 971us/step - loss: 0.0977 - mean_squared_error: 0.0977 - r_square: 0.7068\n",
      "Epoch 66/100\n",
      "38/38 [==============================] - 0s 1ms/step - loss: 0.0994 - mean_squared_error: 0.0994 - r_square: 0.7018\n",
      "Epoch 67/100\n",
      "38/38 [==============================] - 0s 944us/step - loss: 0.1005 - mean_squared_error: 0.1005 - r_square: 0.6986\n",
      "Epoch 68/100\n",
      "38/38 [==============================] - 0s 1ms/step - loss: 0.1020 - mean_squared_error: 0.1020 - r_square: 0.6939\n",
      "Epoch 69/100\n",
      "38/38 [==============================] - 0s 943us/step - loss: 0.0955 - mean_squared_error: 0.0955 - r_square: 0.7136\n",
      "Epoch 70/100\n",
      "38/38 [==============================] - 0s 1ms/step - loss: 0.0999 - mean_squared_error: 0.0999 - r_square: 0.7004\n",
      "Epoch 71/100\n",
      "38/38 [==============================] - 0s 1ms/step - loss: 0.0975 - mean_squared_error: 0.0975 - r_square: 0.7075\n",
      "Epoch 72/100\n",
      "38/38 [==============================] - 0s 960us/step - loss: 0.0972 - mean_squared_error: 0.0972 - r_square: 0.7085\n",
      "Epoch 73/100\n",
      "38/38 [==============================] - 0s 1ms/step - loss: 0.0952 - mean_squared_error: 0.0952 - r_square: 0.7144\n",
      "Epoch 74/100\n",
      "38/38 [==============================] - 0s 1ms/step - loss: 0.0990 - mean_squared_error: 0.0990 - r_square: 0.7030\n",
      "Epoch 75/100\n",
      "38/38 [==============================] - 0s 1ms/step - loss: 0.0947 - mean_squared_error: 0.0947 - r_square: 0.7160\n",
      "Epoch 76/100\n",
      "38/38 [==============================] - 0s 1ms/step - loss: 0.0975 - mean_squared_error: 0.0975 - r_square: 0.7074\n",
      "Epoch 77/100\n",
      "38/38 [==============================] - 0s 949us/step - loss: 0.0955 - mean_squared_error: 0.0955 - r_square: 0.7136\n",
      "Epoch 78/100\n",
      "38/38 [==============================] - 0s 1ms/step - loss: 0.1002 - mean_squared_error: 0.1002 - r_square: 0.6994\n",
      "Epoch 79/100\n",
      "38/38 [==============================] - 0s 944us/step - loss: 0.0972 - mean_squared_error: 0.0972 - r_square: 0.7085\n",
      "Epoch 80/100\n",
      "38/38 [==============================] - 0s 1ms/step - loss: 0.0987 - mean_squared_error: 0.0987 - r_square: 0.7039\n",
      "Epoch 81/100\n",
      "38/38 [==============================] - 0s 909us/step - loss: 0.0975 - mean_squared_error: 0.0975 - r_square: 0.7076\n",
      "Epoch 82/100\n",
      "38/38 [==============================] - 0s 1ms/step - loss: 0.0953 - mean_squared_error: 0.0953 - r_square: 0.7140\n",
      "Epoch 83/100\n",
      "38/38 [==============================] - 0s 1ms/step - loss: 0.0955 - mean_squared_error: 0.0955 - r_square: 0.7136\n",
      "Epoch 84/100\n",
      "38/38 [==============================] - 0s 1ms/step - loss: 0.0951 - mean_squared_error: 0.0951 - r_square: 0.7148\n",
      "Epoch 85/100\n",
      "38/38 [==============================] - 0s 1ms/step - loss: 0.0946 - mean_squared_error: 0.0946 - r_square: 0.7163\n",
      "Epoch 86/100\n",
      "38/38 [==============================] - 0s 1ms/step - loss: 0.0980 - mean_squared_error: 0.0980 - r_square: 0.7059\n",
      "Epoch 87/100\n",
      "38/38 [==============================] - 0s 1ms/step - loss: 0.0932 - mean_squared_error: 0.0932 - r_square: 0.7203\n",
      "Epoch 88/100\n",
      "38/38 [==============================] - 0s 1ms/step - loss: 0.0961 - mean_squared_error: 0.0961 - r_square: 0.7116\n",
      "Epoch 89/100\n",
      "38/38 [==============================] - 0s 1ms/step - loss: 0.0955 - mean_squared_error: 0.0955 - r_square: 0.7135\n",
      "Epoch 90/100\n",
      "38/38 [==============================] - 0s 1ms/step - loss: 0.0904 - mean_squared_error: 0.0904 - r_square: 0.7288\n",
      "Epoch 91/100\n",
      "38/38 [==============================] - 0s 1ms/step - loss: 0.0932 - mean_squared_error: 0.0932 - r_square: 0.7205\n",
      "Epoch 92/100\n",
      "38/38 [==============================] - 0s 985us/step - loss: 0.0958 - mean_squared_error: 0.0958 - r_square: 0.7126\n",
      "Epoch 93/100\n",
      "38/38 [==============================] - 0s 1ms/step - loss: 0.0930 - mean_squared_error: 0.0930 - r_square: 0.7210\n",
      "Epoch 94/100\n",
      "38/38 [==============================] - 0s 932us/step - loss: 0.0935 - mean_squared_error: 0.0935 - r_square: 0.7195\n",
      "Epoch 95/100\n",
      "38/38 [==============================] - 0s 1ms/step - loss: 0.0929 - mean_squared_error: 0.0929 - r_square: 0.7214\n",
      "Epoch 96/100\n",
      "38/38 [==============================] - 0s 1ms/step - loss: 0.0900 - mean_squared_error: 0.0900 - r_square: 0.7301\n",
      "Epoch 97/100\n",
      "38/38 [==============================] - 0s 1ms/step - loss: 0.0939 - mean_squared_error: 0.0939 - r_square: 0.7184\n",
      "Epoch 98/100\n",
      "38/38 [==============================] - 0s 995us/step - loss: 0.0899 - mean_squared_error: 0.0899 - r_square: 0.7302\n",
      "Epoch 99/100\n",
      "38/38 [==============================] - 0s 1ms/step - loss: 0.0951 - mean_squared_error: 0.0951 - r_square: 0.7148\n",
      "Epoch 100/100\n",
      "38/38 [==============================] - 0s 1ms/step - loss: 0.0906 - mean_squared_error: 0.0906 - r_square: 0.7281\n"
     ]
    }
   ],
   "source": [
    "val_history = val_model.fit(f_features_norm, val_y, epochs=100)"
   ]
  },
  {
   "cell_type": "code",
   "execution_count": 21,
   "metadata": {},
   "outputs": [
    {
     "name": "stdout",
     "output_type": "stream",
     "text": [
      "Valance Model Training History\n"
     ]
    },
    {
     "data": {
      "image/png": "[encoded data removed]",
      "text/plain": [
       "<Figure size 1440x720 with 1 Axes>"
      ]
     },
     "metadata": {
      "needs_background": "light"
     },
     "output_type": "display_data"
    }
   ],
   "source": [
    "mse = val_history.history['mean_squared_error']\n",
    "r2 = val_history.history['r_square']\n",
    "\n",
    "epochs = range(len(mse)) # Get number of epochs\n",
    "\n",
    "#------------------------------------------------\n",
    "# Plot training MSE per epoch\n",
    "#------------------------------------------------\n",
    "plt.figure(figsize=(20,10))\n",
    "plt.plot  (epochs, mse, label='MSE')\n",
    "\n",
    "#------------------------------------------------\n",
    "# Plot training r2 per epoch\n",
    "#------------------------------------------------\n",
    "plt.plot  (epochs, r2, label='r_squated')\n",
    "plt.xlabel('Epochs')\n",
    "plt.legend()\n",
    "plt.title ('Training History')\n",
    "\n",
    "print('Valence Model Training History')"
   ]
  },
  {
   "cell_type": "markdown",
   "metadata": {},
   "source": [
    "### Model Metrics\n",
    "|                    | Arousal | Valence |\n",
    "| :----------------: | :-----: | :-----: |\n",
    "|      R Squared     | 0.8684  | 0.7281  |\n",
    "| Mean Squared Error | 0.0438  | 0.0906  |"
   ]
  },
  {
   "cell_type": "markdown",
   "metadata": {},
   "source": [
    "# Save Models as Keras HDF5 file"
   ]
  },
  {
   "cell_type": "markdown",
   "metadata": {},
   "source": [
    "### Save Arousal Model"
   ]
  },
  {
   "cell_type": "code",
   "execution_count": 22,
   "metadata": {},
   "outputs": [],
   "source": [
    "tf.keras.models.save_model(aro_model, './_models/arousal/aro_model.h5')"
   ]
  },
  {
   "cell_type": "markdown",
   "metadata": {},
   "source": [
    "### Save Valence Model"
   ]
  },
  {
   "cell_type": "code",
   "execution_count": 23,
   "metadata": {},
   "outputs": [],
   "source": [
    "tf.keras.models.save_model(val_model, './_models/valence/val_model.h5')"
   ]
  }
 ],
 "metadata": {
  "interpreter": {
   "hash": "63fd5069d213b44bf678585dea6b12cceca9941eaf7f819626cde1f2670de90d"
  },
  "kernelspec": {
   "display_name": "Python 3.9.6 64-bit",
   "language": "python",
   "name": "python3"
  },
  "language_info": {
   "codemirror_mode": {
    "name": "ipython",
    "version": 3
   },
   "file_extension": ".py",
   "mimetype": "text/x-python",
   "name": "python",
   "nbconvert_exporter": "python",
   "pygments_lexer": "ipython3",
   "version": "3.9.6"
  },
  "orig_nbformat": 4
 },
 "nbformat": 4,
 "nbformat_minor": 2
}
